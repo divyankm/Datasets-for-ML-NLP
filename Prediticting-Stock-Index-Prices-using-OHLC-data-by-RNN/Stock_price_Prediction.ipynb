{
  "nbformat": 4,
  "nbformat_minor": 0,
  "metadata": {
    "colab": {
      "name": "Stock price Prediction.ipynb",
      "provenance": []
    },
    "kernelspec": {
      "name": "python3",
      "display_name": "Python 3"
    },
    "language_info": {
      "name": "python"
    }
  },
  "cells": [
    {
      "cell_type": "code",
      "metadata": {
        "id": "sne3SuSeCSmw"
      },
      "source": [
        "import pandas as pd\n",
        "import numpy as np\n",
        "import matplotlib.pyplot as plt\n"
      ],
      "execution_count": 10,
      "outputs": []
    },
    {
      "cell_type": "code",
      "metadata": {
        "colab": {
          "base_uri": "https://localhost:8080/",
          "height": 191
        },
        "id": "F6PeGaw6CnvR",
        "outputId": "5db79085-0602-4ebe-f4b2-6fc13385e18c"
      },
      "source": [
        "#The S&P 500, or simply the SPX, is a stock market index that measures the stock performance of 500 large companies listed on stock exchanges in the United States.\n",
        "\n",
        "df=pd.read_excel('SPX 2002-2020 OHLC Data.xlsx')\n",
        "df.head()"
      ],
      "execution_count": 11,
      "outputs": [
        {
          "output_type": "execute_result",
          "data": {
            "text/html": [
              "<div>\n",
              "<style scoped>\n",
              "    .dataframe tbody tr th:only-of-type {\n",
              "        vertical-align: middle;\n",
              "    }\n",
              "\n",
              "    .dataframe tbody tr th {\n",
              "        vertical-align: top;\n",
              "    }\n",
              "\n",
              "    .dataframe thead th {\n",
              "        text-align: right;\n",
              "    }\n",
              "</style>\n",
              "<table border=\"1\" class=\"dataframe\">\n",
              "  <thead>\n",
              "    <tr style=\"text-align: right;\">\n",
              "      <th></th>\n",
              "      <th>Date/Time</th>\n",
              "      <th>Open</th>\n",
              "      <th>High</th>\n",
              "      <th>Low</th>\n",
              "      <th>Close</th>\n",
              "      <th>Range</th>\n",
              "    </tr>\n",
              "  </thead>\n",
              "  <tbody>\n",
              "    <tr>\n",
              "      <th>0</th>\n",
              "      <td>2002-01-02</td>\n",
              "      <td>1148.08</td>\n",
              "      <td>1154.6700</td>\n",
              "      <td>1136.2300</td>\n",
              "      <td>1154.67</td>\n",
              "      <td>18.4400</td>\n",
              "    </tr>\n",
              "    <tr>\n",
              "      <th>1</th>\n",
              "      <td>2002-01-03</td>\n",
              "      <td>1154.67</td>\n",
              "      <td>1165.2700</td>\n",
              "      <td>1154.0100</td>\n",
              "      <td>1165.27</td>\n",
              "      <td>11.2600</td>\n",
              "    </tr>\n",
              "    <tr>\n",
              "      <th>2</th>\n",
              "      <td>2002-01-04</td>\n",
              "      <td>1165.27</td>\n",
              "      <td>1176.5501</td>\n",
              "      <td>1163.4200</td>\n",
              "      <td>1172.52</td>\n",
              "      <td>13.1301</td>\n",
              "    </tr>\n",
              "    <tr>\n",
              "      <th>3</th>\n",
              "      <td>2002-01-07</td>\n",
              "      <td>1172.51</td>\n",
              "      <td>1176.9700</td>\n",
              "      <td>1163.5501</td>\n",
              "      <td>1164.89</td>\n",
              "      <td>13.4199</td>\n",
              "    </tr>\n",
              "    <tr>\n",
              "      <th>4</th>\n",
              "      <td>2002-01-08</td>\n",
              "      <td>1164.89</td>\n",
              "      <td>1167.6000</td>\n",
              "      <td>1157.4600</td>\n",
              "      <td>1160.71</td>\n",
              "      <td>10.1400</td>\n",
              "    </tr>\n",
              "  </tbody>\n",
              "</table>\n",
              "</div>"
            ],
            "text/plain": [
              "   Date/Time     Open       High        Low    Close    Range\n",
              "0 2002-01-02  1148.08  1154.6700  1136.2300  1154.67  18.4400\n",
              "1 2002-01-03  1154.67  1165.2700  1154.0100  1165.27  11.2600\n",
              "2 2002-01-04  1165.27  1176.5501  1163.4200  1172.52  13.1301\n",
              "3 2002-01-07  1172.51  1176.9700  1163.5501  1164.89  13.4199\n",
              "4 2002-01-08  1164.89  1167.6000  1157.4600  1160.71  10.1400"
            ]
          },
          "metadata": {
            "tags": []
          },
          "execution_count": 11
        }
      ]
    },
    {
      "cell_type": "code",
      "metadata": {
        "colab": {
          "base_uri": "https://localhost:8080/",
          "height": 191
        },
        "id": "L_TnruTALTmU",
        "outputId": "c789c138-350d-42a8-91b4-ce92dceef13e"
      },
      "source": [
        "df=df.sort_values('Date/Time')\n",
        "df.head()"
      ],
      "execution_count": 12,
      "outputs": [
        {
          "output_type": "execute_result",
          "data": {
            "text/html": [
              "<div>\n",
              "<style scoped>\n",
              "    .dataframe tbody tr th:only-of-type {\n",
              "        vertical-align: middle;\n",
              "    }\n",
              "\n",
              "    .dataframe tbody tr th {\n",
              "        vertical-align: top;\n",
              "    }\n",
              "\n",
              "    .dataframe thead th {\n",
              "        text-align: right;\n",
              "    }\n",
              "</style>\n",
              "<table border=\"1\" class=\"dataframe\">\n",
              "  <thead>\n",
              "    <tr style=\"text-align: right;\">\n",
              "      <th></th>\n",
              "      <th>Date/Time</th>\n",
              "      <th>Open</th>\n",
              "      <th>High</th>\n",
              "      <th>Low</th>\n",
              "      <th>Close</th>\n",
              "      <th>Range</th>\n",
              "    </tr>\n",
              "  </thead>\n",
              "  <tbody>\n",
              "    <tr>\n",
              "      <th>0</th>\n",
              "      <td>2002-01-02</td>\n",
              "      <td>1148.08</td>\n",
              "      <td>1154.6700</td>\n",
              "      <td>1136.2300</td>\n",
              "      <td>1154.67</td>\n",
              "      <td>18.4400</td>\n",
              "    </tr>\n",
              "    <tr>\n",
              "      <th>1</th>\n",
              "      <td>2002-01-03</td>\n",
              "      <td>1154.67</td>\n",
              "      <td>1165.2700</td>\n",
              "      <td>1154.0100</td>\n",
              "      <td>1165.27</td>\n",
              "      <td>11.2600</td>\n",
              "    </tr>\n",
              "    <tr>\n",
              "      <th>2</th>\n",
              "      <td>2002-01-04</td>\n",
              "      <td>1165.27</td>\n",
              "      <td>1176.5501</td>\n",
              "      <td>1163.4200</td>\n",
              "      <td>1172.52</td>\n",
              "      <td>13.1301</td>\n",
              "    </tr>\n",
              "    <tr>\n",
              "      <th>3</th>\n",
              "      <td>2002-01-07</td>\n",
              "      <td>1172.51</td>\n",
              "      <td>1176.9700</td>\n",
              "      <td>1163.5501</td>\n",
              "      <td>1164.89</td>\n",
              "      <td>13.4199</td>\n",
              "    </tr>\n",
              "    <tr>\n",
              "      <th>4</th>\n",
              "      <td>2002-01-08</td>\n",
              "      <td>1164.89</td>\n",
              "      <td>1167.6000</td>\n",
              "      <td>1157.4600</td>\n",
              "      <td>1160.71</td>\n",
              "      <td>10.1400</td>\n",
              "    </tr>\n",
              "  </tbody>\n",
              "</table>\n",
              "</div>"
            ],
            "text/plain": [
              "   Date/Time     Open       High        Low    Close    Range\n",
              "0 2002-01-02  1148.08  1154.6700  1136.2300  1154.67  18.4400\n",
              "1 2002-01-03  1154.67  1165.2700  1154.0100  1165.27  11.2600\n",
              "2 2002-01-04  1165.27  1176.5501  1163.4200  1172.52  13.1301\n",
              "3 2002-01-07  1172.51  1176.9700  1163.5501  1164.89  13.4199\n",
              "4 2002-01-08  1164.89  1167.6000  1157.4600  1160.71  10.1400"
            ]
          },
          "metadata": {
            "tags": []
          },
          "execution_count": 12
        }
      ]
    },
    {
      "cell_type": "code",
      "metadata": {
        "colab": {
          "base_uri": "https://localhost:8080/"
        },
        "id": "vRbQWZ8OFSf9",
        "outputId": "5cdd4efa-8b0a-4b11-9db3-ea2a9cf99d06"
      },
      "source": [
        "df.shape"
      ],
      "execution_count": 13,
      "outputs": [
        {
          "output_type": "execute_result",
          "data": {
            "text/plain": [
              "(4785, 6)"
            ]
          },
          "metadata": {
            "tags": []
          },
          "execution_count": 13
        }
      ]
    },
    {
      "cell_type": "code",
      "metadata": {
        "colab": {
          "base_uri": "https://localhost:8080/",
          "height": 277
        },
        "id": "QKsVzHAdFUUZ",
        "outputId": "c0ae27d1-98c0-4bb0-d911-003de903ee09"
      },
      "source": [
        "df.describe()"
      ],
      "execution_count": 14,
      "outputs": [
        {
          "output_type": "execute_result",
          "data": {
            "text/html": [
              "<div>\n",
              "<style scoped>\n",
              "    .dataframe tbody tr th:only-of-type {\n",
              "        vertical-align: middle;\n",
              "    }\n",
              "\n",
              "    .dataframe tbody tr th {\n",
              "        vertical-align: top;\n",
              "    }\n",
              "\n",
              "    .dataframe thead th {\n",
              "        text-align: right;\n",
              "    }\n",
              "</style>\n",
              "<table border=\"1\" class=\"dataframe\">\n",
              "  <thead>\n",
              "    <tr style=\"text-align: right;\">\n",
              "      <th></th>\n",
              "      <th>Open</th>\n",
              "      <th>High</th>\n",
              "      <th>Low</th>\n",
              "      <th>Close</th>\n",
              "      <th>Range</th>\n",
              "    </tr>\n",
              "  </thead>\n",
              "  <tbody>\n",
              "    <tr>\n",
              "      <th>count</th>\n",
              "      <td>4785.000000</td>\n",
              "      <td>4785.000000</td>\n",
              "      <td>4785.000000</td>\n",
              "      <td>4785.000000</td>\n",
              "      <td>4785.000000</td>\n",
              "    </tr>\n",
              "    <tr>\n",
              "      <th>mean</th>\n",
              "      <td>1689.576537</td>\n",
              "      <td>1699.080521</td>\n",
              "      <td>1679.332416</td>\n",
              "      <td>1689.847918</td>\n",
              "      <td>19.748105</td>\n",
              "    </tr>\n",
              "    <tr>\n",
              "      <th>std</th>\n",
              "      <td>698.239313</td>\n",
              "      <td>700.581871</td>\n",
              "      <td>695.583161</td>\n",
              "      <td>698.328004</td>\n",
              "      <td>16.642677</td>\n",
              "    </tr>\n",
              "    <tr>\n",
              "      <th>min</th>\n",
              "      <td>679.280000</td>\n",
              "      <td>695.270000</td>\n",
              "      <td>666.790000</td>\n",
              "      <td>676.530000</td>\n",
              "      <td>2.900100</td>\n",
              "    </tr>\n",
              "    <tr>\n",
              "      <th>25%</th>\n",
              "      <td>1157.190000</td>\n",
              "      <td>1165.290000</td>\n",
              "      <td>1146.970000</td>\n",
              "      <td>1157.540000</td>\n",
              "      <td>10.370000</td>\n",
              "    </tr>\n",
              "    <tr>\n",
              "      <th>50%</th>\n",
              "      <td>1402.430000</td>\n",
              "      <td>1407.890000</td>\n",
              "      <td>1394.830000</td>\n",
              "      <td>1402.600000</td>\n",
              "      <td>15.170000</td>\n",
              "    </tr>\n",
              "    <tr>\n",
              "      <th>75%</th>\n",
              "      <td>2101.710000</td>\n",
              "      <td>2109.080000</td>\n",
              "      <td>2092.130000</td>\n",
              "      <td>2102.150000</td>\n",
              "      <td>23.070000</td>\n",
              "    </tr>\n",
              "    <tr>\n",
              "      <th>max</th>\n",
              "      <td>3750.010000</td>\n",
              "      <td>3760.200000</td>\n",
              "      <td>3730.210000</td>\n",
              "      <td>3756.070000</td>\n",
              "      <td>218.960000</td>\n",
              "    </tr>\n",
              "  </tbody>\n",
              "</table>\n",
              "</div>"
            ],
            "text/plain": [
              "              Open         High          Low        Close        Range\n",
              "count  4785.000000  4785.000000  4785.000000  4785.000000  4785.000000\n",
              "mean   1689.576537  1699.080521  1679.332416  1689.847918    19.748105\n",
              "std     698.239313   700.581871   695.583161   698.328004    16.642677\n",
              "min     679.280000   695.270000   666.790000   676.530000     2.900100\n",
              "25%    1157.190000  1165.290000  1146.970000  1157.540000    10.370000\n",
              "50%    1402.430000  1407.890000  1394.830000  1402.600000    15.170000\n",
              "75%    2101.710000  2109.080000  2092.130000  2102.150000    23.070000\n",
              "max    3750.010000  3760.200000  3730.210000  3756.070000   218.960000"
            ]
          },
          "metadata": {
            "tags": []
          },
          "execution_count": 14
        }
      ]
    },
    {
      "cell_type": "code",
      "metadata": {
        "colab": {
          "base_uri": "https://localhost:8080/"
        },
        "id": "8fXonPB5kgjp",
        "outputId": "1b8d0e68-ae45-464f-d5ba-116e1f1a0023"
      },
      "source": [
        "df.isna().sum()"
      ],
      "execution_count": 15,
      "outputs": [
        {
          "output_type": "execute_result",
          "data": {
            "text/plain": [
              "Date/Time    0\n",
              "Open         0\n",
              "High         0\n",
              "Low          0\n",
              "Close        0\n",
              "Range        0\n",
              "dtype: int64"
            ]
          },
          "metadata": {
            "tags": []
          },
          "execution_count": 15
        }
      ]
    },
    {
      "cell_type": "code",
      "metadata": {
        "colab": {
          "base_uri": "https://localhost:8080/",
          "height": 698
        },
        "id": "he6vt5QKC20F",
        "outputId": "5d05357f-2053-49dc-d4a3-c02f78c451ea"
      },
      "source": [
        "plt.figure(figsize=(20,10))\n",
        "plt.plot(range(df.shape[0]),df['Open'])\n",
        "plt.xticks(range(0,df.shape[0],500),df['Date/Time'].loc[::500],rotation=45)\n",
        "plt.xlabel('Date/Time',fontsize=15)\n",
        "plt.ylabel('Price',fontsize=15)\n",
        "plt.grid()\n",
        "plt.show"
      ],
      "execution_count": 38,
      "outputs": [
        {
          "output_type": "execute_result",
          "data": {
            "text/plain": [
              "<function matplotlib.pyplot.show>"
            ]
          },
          "metadata": {
            "tags": []
          },
          "execution_count": 38
        },
        {
          "output_type": "display_data",
          "data": {
            "image/png": "[encoded data removed]",
            "text/plain": [
              "<Figure size 1440x720 with 1 Axes>"
            ]
          },
          "metadata": {
            "tags": [],
            "needs_background": "light"
          }
        }
      ]
    },
    {
      "cell_type": "code",
      "metadata": {
        "id": "tZbVFdvqD4lv"
      },
      "source": [
        "df1=df.iloc[:,[1]].values  #Open Values only\n",
        "Tr_set=df1[:3200]  #Training Set\n",
        "Ts_set=df1[3200:]  #Test Set"
      ],
      "execution_count": 17,
      "outputs": []
    },
    {
      "cell_type": "code",
      "metadata": {
        "colab": {
          "base_uri": "https://localhost:8080/"
        },
        "id": "eaXitv8uH_Fv",
        "outputId": "1c1184a0-3385-4576-8d95-a128a901e6fe"
      },
      "source": [
        "Tr_set.shape    "
      ],
      "execution_count": 18,
      "outputs": [
        {
          "output_type": "execute_result",
          "data": {
            "text/plain": [
              "(3200, 1)"
            ]
          },
          "metadata": {
            "tags": []
          },
          "execution_count": 18
        }
      ]
    },
    {
      "cell_type": "code",
      "metadata": {
        "colab": {
          "base_uri": "https://localhost:8080/"
        },
        "id": "RoMbwj2_IMX8",
        "outputId": "75c166fc-067d-450f-a71e-52d015ec788c"
      },
      "source": [
        "Ts_set.shape"
      ],
      "execution_count": 19,
      "outputs": [
        {
          "output_type": "execute_result",
          "data": {
            "text/plain": [
              "(1585, 1)"
            ]
          },
          "metadata": {
            "tags": []
          },
          "execution_count": 19
        }
      ]
    },
    {
      "cell_type": "code",
      "metadata": {
        "id": "xvD4g_8uIOw_"
      },
      "source": [
        "from sklearn.preprocessing import MinMaxScaler\n",
        "import tensorflow as tf\n",
        "from tensorflow.keras.models import Sequential\n",
        "from tensorflow.keras.layers import Dense\n",
        "from tensorflow.keras.layers import LSTM\n",
        "from tensorflow.keras.layers import Dropout\n"
      ],
      "execution_count": 20,
      "outputs": []
    },
    {
      "cell_type": "code",
      "metadata": {
        "id": "H1YBtpufIedZ"
      },
      "source": [
        "sc = MinMaxScaler(feature_range=(0,1))   #Building Scaling model(Sc), We are keeping feature range in between 0 to 1.It is kind of Hyper parameter\n",
        "Tr_scaled=sc.fit_transform(Ts_set)         #Training and test data in scaled form\n",
        "Ts_scaled=sc.fit_transform(Ts_set)"
      ],
      "execution_count": 21,
      "outputs": []
    },
    {
      "cell_type": "code",
      "metadata": {
        "id": "KYsxLipUKoRp"
      },
      "source": [
        "#We have selected first 100 elemenent in opening column for training data set\n",
        "\n",
        "seq_len=100\n",
        "X_train=[]\n",
        "y_train=[]\n",
        "for i in range(seq_len,len(Tr_scaled)-seq_len):\n",
        "    X_train.append(Tr_scaled[i-seq_len:i,0])\n",
        "    y_train.append(Tr_scaled[i,0])"
      ],
      "execution_count": 22,
      "outputs": []
    },
    {
      "cell_type": "code",
      "metadata": {
        "colab": {
          "base_uri": "https://localhost:8080/"
        },
        "id": "qT6-89vbLEaG",
        "outputId": "02cbe178-392d-4406-9917-c1972fa471d3"
      },
      "source": [
        "type(X_train)          #X_train is in list now, we will need array"
      ],
      "execution_count": 23,
      "outputs": [
        {
          "output_type": "execute_result",
          "data": {
            "text/plain": [
              "list"
            ]
          },
          "metadata": {
            "tags": []
          },
          "execution_count": 23
        }
      ]
    },
    {
      "cell_type": "code",
      "metadata": {
        "id": "z6d1O4utMpPO"
      },
      "source": [
        "X_train,y_train=np.array(X_train),np.array(y_train)   #Converting X_train and y_train in arrays"
      ],
      "execution_count": 24,
      "outputs": []
    },
    {
      "cell_type": "code",
      "metadata": {
        "colab": {
          "base_uri": "https://localhost:8080/"
        },
        "id": "6Opzi8MCNQqb",
        "outputId": "6475e50e-8925-4d03-a881-3570ba471720"
      },
      "source": [
        "X_train[0]"
      ],
      "execution_count": 25,
      "outputs": [
        {
          "output_type": "execute_result",
          "data": {
            "text/plain": [
              "array([0.0885261 , 0.09357146, 0.09166184, 0.08315724, 0.07823188,\n",
              "       0.08552601, 0.06929944, 0.07594659, 0.07555528, 0.072023  ,\n",
              "       0.05866086, 0.05985568, 0.07127689, 0.06728547, 0.05329723,\n",
              "       0.0700612 , 0.04812142, 0.03769677, 0.02280589, 0.02127715,\n",
              "       0.01176557, 0.01644049, 0.02724602, 0.03964291, 0.0562921 ,\n",
              "       0.05093368, 0.06166617, 0.06760374, 0.06821419, 0.07820579,\n",
              "       0.07622312, 0.08755041, 0.09642546, 0.09517325, 0.09490194,\n",
              "       0.09909684, 0.10380829, 0.10362567, 0.10685533, 0.10662054,\n",
              "       0.10738231, 0.10765884, 0.10690229, 0.10856669, 0.11361727,\n",
              "       0.11085719, 0.11690433, 0.12087488, 0.12352539, 0.1220697 ,\n",
              "       0.12594111, 0.12124532, 0.11497905, 0.12211665, 0.12534631,\n",
              "       0.12489761, 0.12597242, 0.11642953, 0.11763478, 0.1014917 ,\n",
              "       0.10276478, 0.08954873, 0.07999019, 0.07323869, 0.09682721,\n",
              "       0.11877221, 0.12307146, 0.12943687, 0.13036038, 0.13090822,\n",
              "       0.13264566, 0.13309437, 0.12976558, 0.11765565, 0.11532863,\n",
              "       0.09848117, 0.08982005, 0.10289522, 0.12002964, 0.11099285,\n",
              "       0.10340132, 0.09652459, 0.09409843, 0.08288071, 0.09775593,\n",
              "       0.09745853, 0.10482049, 0.11978441, 0.11323117, 0.11189548,\n",
              "       0.10379785, 0.08820261, 0.09702026, 0.08518687, 0.09877336,\n",
              "       0.11241724, 0.10959454, 0.11941918, 0.11482253, 0.11268855])"
            ]
          },
          "metadata": {
            "tags": []
          },
          "execution_count": 25
        }
      ]
    },
    {
      "cell_type": "code",
      "metadata": {
        "colab": {
          "base_uri": "https://localhost:8080/"
        },
        "id": "EB-XJCuQNVJ8",
        "outputId": "ba267a27-35ad-4593-f8f8-a6e2fcf995cc"
      },
      "source": [
        "len(X_train[0])"
      ],
      "execution_count": 26,
      "outputs": [
        {
          "output_type": "execute_result",
          "data": {
            "text/plain": [
              "100"
            ]
          },
          "metadata": {
            "tags": []
          },
          "execution_count": 26
        }
      ]
    },
    {
      "cell_type": "code",
      "metadata": {
        "colab": {
          "base_uri": "https://localhost:8080/"
        },
        "id": "3cENFsLtNY78",
        "outputId": "444c113d-bfd5-4363-9581-a71f301b4486"
      },
      "source": [
        "y_train[0]"
      ],
      "execution_count": 27,
      "outputs": [
        {
          "output_type": "execute_result",
          "data": {
            "text/plain": [
              "0.12269058389552379"
            ]
          },
          "metadata": {
            "tags": []
          },
          "execution_count": 27
        }
      ]
    },
    {
      "cell_type": "code",
      "metadata": {
        "id": "F1R1QEbENcyH"
      },
      "source": [
        "#Testing Dataset\n",
        "\n",
        "\n",
        "X_test=[]\n",
        "y_test=[]\n",
        "for i in range(seq_len,len(Ts_scaled)-seq_len):\n",
        "    X_test.append(Ts_scaled[i-seq_len:i,0])\n",
        "    y_test.append(Ts_scaled[i,0])"
      ],
      "execution_count": 28,
      "outputs": []
    },
    {
      "cell_type": "code",
      "metadata": {
        "id": "q6bD408mUVzU"
      },
      "source": [
        ""
      ],
      "execution_count": 28,
      "outputs": []
    },
    {
      "cell_type": "code",
      "metadata": {
        "colab": {
          "base_uri": "https://localhost:8080/"
        },
        "id": "n7BI4_2qOFDK",
        "outputId": "afca955c-4ea9-46b9-b649-ff3f49ff1aff"
      },
      "source": [
        "type(X_test)   #we need to convert it in array"
      ],
      "execution_count": 29,
      "outputs": [
        {
          "output_type": "execute_result",
          "data": {
            "text/plain": [
              "list"
            ]
          },
          "metadata": {
            "tags": []
          },
          "execution_count": 29
        }
      ]
    },
    {
      "cell_type": "code",
      "metadata": {
        "colab": {
          "base_uri": "https://localhost:8080/"
        },
        "id": "e8nE5opKOPZp",
        "outputId": "ed4311a5-5ebb-4e4a-82a7-3041a879f4c1"
      },
      "source": [
        "X_train,y_train=np.array(X_train),np.array(y_train)\n",
        "X_train.shape  #Converting list to array "
      ],
      "execution_count": 30,
      "outputs": [
        {
          "output_type": "execute_result",
          "data": {
            "text/plain": [
              "(1385, 100)"
            ]
          },
          "metadata": {
            "tags": []
          },
          "execution_count": 30
        }
      ]
    },
    {
      "cell_type": "code",
      "metadata": {
        "colab": {
          "base_uri": "https://localhost:8080/"
        },
        "id": "KSZjluubTOrW",
        "outputId": "755ddc92-456f-4f12-dbaf-b4bd78a98aa8"
      },
      "source": [
        "X_test,y_test=np.array(X_test),np.array(y_test) \n",
        "X_test.shape"
      ],
      "execution_count": 31,
      "outputs": [
        {
          "output_type": "execute_result",
          "data": {
            "text/plain": [
              "(1385, 100)"
            ]
          },
          "metadata": {
            "tags": []
          },
          "execution_count": 31
        }
      ]
    },
    {
      "cell_type": "code",
      "metadata": {
        "colab": {
          "base_uri": "https://localhost:8080/"
        },
        "id": "4Wvyrib9QkSG",
        "outputId": "df9804b6-e1c4-4722-f080-1b00ce62e80c"
      },
      "source": [
        "#Converting Training dataset to 3d tensor\n",
        "X_train=np.reshape(X_train,(X_train.shape[0],X_train.shape[1],1))\n",
        "X_train.shape"
      ],
      "execution_count": 32,
      "outputs": [
        {
          "output_type": "execute_result",
          "data": {
            "text/plain": [
              "(1385, 100, 1)"
            ]
          },
          "metadata": {
            "tags": []
          },
          "execution_count": 32
        }
      ]
    },
    {
      "cell_type": "code",
      "metadata": {
        "colab": {
          "base_uri": "https://localhost:8080/"
        },
        "id": "-Lz_08fIRLin",
        "outputId": "3a1391b5-3935-4b65-db91-c3dad27a2381"
      },
      "source": [
        "#Converting Testing dataset to 3d tensor\n",
        "X_test=np.reshape(X_test,(X_test.shape[0],X_test.shape[1],1))\n",
        "X_test.shape\n"
      ],
      "execution_count": 33,
      "outputs": [
        {
          "output_type": "execute_result",
          "data": {
            "text/plain": [
              "(1385, 100, 1)"
            ]
          },
          "metadata": {
            "tags": []
          },
          "execution_count": 33
        }
      ]
    },
    {
      "cell_type": "code",
      "metadata": {
        "id": "gMLfao1zR27M"
      },
      "source": [
        "model=Sequential()\n",
        "model.add(LSTM(units=50,return_sequences=True,input_shape=(X_train.shape[1],1)))  #LSTM acting as Recurrent layer\n",
        "model.add(Dropout(0.1))               #Hidden Layer\n",
        "model.add(LSTM(units=50,return_sequences=True))  ##LSTM acting as Recurrent layer\n",
        "model.add(Dropout(0.2))             #Hidden Layer\n",
        "model.add(tf.keras.layers.GRU(units=50))      ##GRU acting as Recurrent layer\n",
        "model.add(Dropout(0.2))             #Hidden Layer\n",
        "model.add(Dense(units=1))\n",
        "\n",
        "\n"
      ],
      "execution_count": 34,
      "outputs": []
    },
    {
      "cell_type": "code",
      "metadata": {
        "colab": {
          "base_uri": "https://localhost:8080/"
        },
        "id": "cu8RH9V2YRfZ",
        "outputId": "bc7a4d9d-f7af-4ce7-bb34-d3ed2e36fefc"
      },
      "source": [
        "model.compile(optimizer='adam',loss='mean_squared_error')\n",
        "model.fit(X_train,y_train,epochs=5,batch_size=32)"
      ],
      "execution_count": 35,
      "outputs": [
        {
          "output_type": "stream",
          "text": [
            "Epoch 1/5\n",
            "44/44 [==============================] - 11s 134ms/step - loss: 0.0353\n",
            "Epoch 2/5\n",
            "44/44 [==============================] - 6s 138ms/step - loss: 0.0038\n",
            "Epoch 3/5\n",
            "44/44 [==============================] - 6s 140ms/step - loss: 0.0032\n",
            "Epoch 4/5\n",
            "44/44 [==============================] - 6s 143ms/step - loss: 0.0029\n",
            "Epoch 5/5\n",
            "44/44 [==============================] - 6s 143ms/step - loss: 0.0029\n"
          ],
          "name": "stdout"
        },
        {
          "output_type": "execute_result",
          "data": {
            "text/plain": [
              "<tensorflow.python.keras.callbacks.History at 0x7f712b15aed0>"
            ]
          },
          "metadata": {
            "tags": []
          },
          "execution_count": 35
        }
      ]
    },
    {
      "cell_type": "code",
      "metadata": {
        "id": "Dl0_JoZWY9NW"
      },
      "source": [
        "y_hat=model.predict(X_test)"
      ],
      "execution_count": 36,
      "outputs": []
    },
    {
      "cell_type": "code",
      "metadata": {
        "colab": {
          "base_uri": "https://localhost:8080/",
          "height": 592
        },
        "id": "eGBg6NfaaDFz",
        "outputId": "24552ff3-03d7-4ae7-fb11-3089cc48cee9"
      },
      "source": [
        "plt.figure(figsize=(20,10))\n",
        "plt.plot(y_test,color='g',label='Ground Truth')\n",
        "plt.plot(y_hat,color='r',label='Predicted Value')\n",
        "plt.legend()\n",
        "plt.grid()\n",
        "plt.show()"
      ],
      "execution_count": 37,
      "outputs": [
        {
          "output_type": "display_data",
          "data": {
            "image/png": "[encoded data removed]",
            "text/plain": [
              "<Figure size 1440x720 with 1 Axes>"
            ]
          },
          "metadata": {
            "tags": [],
            "needs_background": "light"
          }
        }
      ]
    },
    {
      "cell_type": "code",
      "metadata": {
        "id": "UOUQvYn4akRI"
      },
      "source": [
        ""
      ],
      "execution_count": 37,
      "outputs": []
    }
  ]
}